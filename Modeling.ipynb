{
 "cells": [
  {
   "cell_type": "markdown",
   "id": "7bbde71b",
   "metadata": {},
   "source": [
    "# Import Libraries"
   ]
  },
  {
   "cell_type": "code",
   "execution_count": 58,
   "id": "dcbb2297",
   "metadata": {},
   "outputs": [],
   "source": [
    "import pandas as pd\n",
    "import matplotlib.pyplot as plt\n",
    "from statsmodels.tsa.stattools import adfuller\n",
    "from sklearn.metrics import mean_squared_error, mean_absolute_error\n",
    "import numpy as np\n",
    "from statsmodels.graphics.tsaplots import plot_acf\n",
    "from statsmodels.graphics.tsaplots import plot_pacf\n",
    "from sklearn.metrics import mean_squared_error, mean_absolute_error\n",
    "from statsmodels.tsa.arima.model import ARIMA\n",
    "from prophet import Prophet"
   ]
  },
  {
   "cell_type": "markdown",
   "id": "34fc6e5d",
   "metadata": {},
   "source": [
    "# Obtain Data"
   ]
  },
  {
   "cell_type": "markdown",
   "id": "0d0434de",
   "metadata": {},
   "source": [
    "Read S&P 500 data csv into pandas df"
   ]
  },
  {
   "cell_type": "code",
   "execution_count": 59,
   "id": "4f130e83",
   "metadata": {},
   "outputs": [
    {
     "data": {
      "text/html": [
       "<div>\n",
       "<style scoped>\n",
       "    .dataframe tbody tr th:only-of-type {\n",
       "        vertical-align: middle;\n",
       "    }\n",
       "\n",
       "    .dataframe tbody tr th {\n",
       "        vertical-align: top;\n",
       "    }\n",
       "\n",
       "    .dataframe thead th {\n",
       "        text-align: right;\n",
       "    }\n",
       "</style>\n",
       "<table border=\"1\" class=\"dataframe\">\n",
       "  <thead>\n",
       "    <tr style=\"text-align: right;\">\n",
       "      <th></th>\n",
       "      <th>Date</th>\n",
       "      <th>Open</th>\n",
       "      <th>High</th>\n",
       "      <th>Low</th>\n",
       "      <th>Close</th>\n",
       "    </tr>\n",
       "  </thead>\n",
       "  <tbody>\n",
       "    <tr>\n",
       "      <th>0</th>\n",
       "      <td>12/31/19</td>\n",
       "      <td>3215.18</td>\n",
       "      <td>3231.72</td>\n",
       "      <td>3212.03</td>\n",
       "      <td>3230.78</td>\n",
       "    </tr>\n",
       "    <tr>\n",
       "      <th>1</th>\n",
       "      <td>12/30/19</td>\n",
       "      <td>3240.09</td>\n",
       "      <td>3240.92</td>\n",
       "      <td>3216.57</td>\n",
       "      <td>3221.29</td>\n",
       "    </tr>\n",
       "    <tr>\n",
       "      <th>2</th>\n",
       "      <td>12/27/19</td>\n",
       "      <td>3247.23</td>\n",
       "      <td>3247.93</td>\n",
       "      <td>3234.37</td>\n",
       "      <td>3240.02</td>\n",
       "    </tr>\n",
       "    <tr>\n",
       "      <th>3</th>\n",
       "      <td>12/26/19</td>\n",
       "      <td>3227.20</td>\n",
       "      <td>3240.08</td>\n",
       "      <td>3227.20</td>\n",
       "      <td>3239.91</td>\n",
       "    </tr>\n",
       "    <tr>\n",
       "      <th>4</th>\n",
       "      <td>12/24/19</td>\n",
       "      <td>3225.45</td>\n",
       "      <td>3226.43</td>\n",
       "      <td>3220.51</td>\n",
       "      <td>3223.38</td>\n",
       "    </tr>\n",
       "  </tbody>\n",
       "</table>\n",
       "</div>"
      ],
      "text/plain": [
       "       Date     Open     High      Low    Close\n",
       "0  12/31/19  3215.18  3231.72  3212.03  3230.78\n",
       "1  12/30/19  3240.09  3240.92  3216.57  3221.29\n",
       "2  12/27/19  3247.23  3247.93  3234.37  3240.02\n",
       "3  12/26/19  3227.20  3240.08  3227.20  3239.91\n",
       "4  12/24/19  3225.45  3226.43  3220.51  3223.38"
      ]
     },
     "execution_count": 59,
     "metadata": {},
     "output_type": "execute_result"
    }
   ],
   "source": [
    "df = pd.read_csv('Data/Prices.csv')\n",
    "df.head()"
   ]
  },
  {
   "cell_type": "markdown",
   "id": "b08a4ccc",
   "metadata": {},
   "source": [
    "# Scrub Data"
   ]
  },
  {
   "cell_type": "markdown",
   "id": "1b46722d",
   "metadata": {},
   "source": [
    "See what data scrubbing needed with df.info"
   ]
  },
  {
   "cell_type": "code",
   "execution_count": 60,
   "id": "f28e8571",
   "metadata": {},
   "outputs": [
    {
     "name": "stdout",
     "output_type": "stream",
     "text": [
      "<class 'pandas.core.frame.DataFrame'>\n",
      "RangeIndex: 2724 entries, 0 to 2723\n",
      "Data columns (total 5 columns):\n",
      " #   Column  Non-Null Count  Dtype  \n",
      "---  ------  --------------  -----  \n",
      " 0   Date    2724 non-null   object \n",
      " 1    Open   2724 non-null   float64\n",
      " 2    High   2724 non-null   float64\n",
      " 3    Low    2724 non-null   float64\n",
      " 4    Close  2724 non-null   float64\n",
      "dtypes: float64(4), object(1)\n",
      "memory usage: 106.5+ KB\n"
     ]
    }
   ],
   "source": [
    "df.info()"
   ]
  },
  {
   "cell_type": "markdown",
   "id": "e55d9965",
   "metadata": {},
   "source": [
    "Drop df columns not useful for modeling"
   ]
  },
  {
   "cell_type": "code",
   "execution_count": 61,
   "id": "e1ba504b",
   "metadata": {},
   "outputs": [
    {
     "data": {
      "text/html": [
       "<div>\n",
       "<style scoped>\n",
       "    .dataframe tbody tr th:only-of-type {\n",
       "        vertical-align: middle;\n",
       "    }\n",
       "\n",
       "    .dataframe tbody tr th {\n",
       "        vertical-align: top;\n",
       "    }\n",
       "\n",
       "    .dataframe thead th {\n",
       "        text-align: right;\n",
       "    }\n",
       "</style>\n",
       "<table border=\"1\" class=\"dataframe\">\n",
       "  <thead>\n",
       "    <tr style=\"text-align: right;\">\n",
       "      <th></th>\n",
       "      <th>Date</th>\n",
       "      <th>Close</th>\n",
       "    </tr>\n",
       "  </thead>\n",
       "  <tbody>\n",
       "    <tr>\n",
       "      <th>0</th>\n",
       "      <td>12/31/19</td>\n",
       "      <td>3230.78</td>\n",
       "    </tr>\n",
       "    <tr>\n",
       "      <th>1</th>\n",
       "      <td>12/30/19</td>\n",
       "      <td>3221.29</td>\n",
       "    </tr>\n",
       "    <tr>\n",
       "      <th>2</th>\n",
       "      <td>12/27/19</td>\n",
       "      <td>3240.02</td>\n",
       "    </tr>\n",
       "    <tr>\n",
       "      <th>3</th>\n",
       "      <td>12/26/19</td>\n",
       "      <td>3239.91</td>\n",
       "    </tr>\n",
       "    <tr>\n",
       "      <th>4</th>\n",
       "      <td>12/24/19</td>\n",
       "      <td>3223.38</td>\n",
       "    </tr>\n",
       "  </tbody>\n",
       "</table>\n",
       "</div>"
      ],
      "text/plain": [
       "       Date    Close\n",
       "0  12/31/19  3230.78\n",
       "1  12/30/19  3221.29\n",
       "2  12/27/19  3240.02\n",
       "3  12/26/19  3239.91\n",
       "4  12/24/19  3223.38"
      ]
     },
     "execution_count": 61,
     "metadata": {},
     "output_type": "execute_result"
    }
   ],
   "source": [
    "df.drop(columns=[' Open', ' High', ' Low'], inplace=True)\n",
    "df.head()"
   ]
  },
  {
   "cell_type": "markdown",
   "id": "3014a2af",
   "metadata": {},
   "source": [
    "Rename Close column to S&P 500 Closing Price"
   ]
  },
  {
   "cell_type": "code",
   "execution_count": 62,
   "id": "97910700",
   "metadata": {},
   "outputs": [
    {
     "data": {
      "text/html": [
       "<div>\n",
       "<style scoped>\n",
       "    .dataframe tbody tr th:only-of-type {\n",
       "        vertical-align: middle;\n",
       "    }\n",
       "\n",
       "    .dataframe tbody tr th {\n",
       "        vertical-align: top;\n",
       "    }\n",
       "\n",
       "    .dataframe thead th {\n",
       "        text-align: right;\n",
       "    }\n",
       "</style>\n",
       "<table border=\"1\" class=\"dataframe\">\n",
       "  <thead>\n",
       "    <tr style=\"text-align: right;\">\n",
       "      <th></th>\n",
       "      <th>Date</th>\n",
       "      <th>S&amp;P Closing Price</th>\n",
       "    </tr>\n",
       "  </thead>\n",
       "  <tbody>\n",
       "    <tr>\n",
       "      <th>0</th>\n",
       "      <td>12/31/19</td>\n",
       "      <td>3230.78</td>\n",
       "    </tr>\n",
       "    <tr>\n",
       "      <th>1</th>\n",
       "      <td>12/30/19</td>\n",
       "      <td>3221.29</td>\n",
       "    </tr>\n",
       "    <tr>\n",
       "      <th>2</th>\n",
       "      <td>12/27/19</td>\n",
       "      <td>3240.02</td>\n",
       "    </tr>\n",
       "    <tr>\n",
       "      <th>3</th>\n",
       "      <td>12/26/19</td>\n",
       "      <td>3239.91</td>\n",
       "    </tr>\n",
       "    <tr>\n",
       "      <th>4</th>\n",
       "      <td>12/24/19</td>\n",
       "      <td>3223.38</td>\n",
       "    </tr>\n",
       "  </tbody>\n",
       "</table>\n",
       "</div>"
      ],
      "text/plain": [
       "       Date  S&P Closing Price\n",
       "0  12/31/19            3230.78\n",
       "1  12/30/19            3221.29\n",
       "2  12/27/19            3240.02\n",
       "3  12/26/19            3239.91\n",
       "4  12/24/19            3223.38"
      ]
     },
     "execution_count": 62,
     "metadata": {},
     "output_type": "execute_result"
    }
   ],
   "source": [
    "df.rename(columns= {' Close': 'S&P Closing Price'}, inplace=True)\n",
    "df.head()"
   ]
  },
  {
   "cell_type": "markdown",
   "id": "abff223e",
   "metadata": {},
   "source": [
    "Change Date column to datetime data type"
   ]
  },
  {
   "cell_type": "code",
   "execution_count": 63,
   "id": "d7cdae10",
   "metadata": {},
   "outputs": [
    {
     "data": {
      "text/html": [
       "<div>\n",
       "<style scoped>\n",
       "    .dataframe tbody tr th:only-of-type {\n",
       "        vertical-align: middle;\n",
       "    }\n",
       "\n",
       "    .dataframe tbody tr th {\n",
       "        vertical-align: top;\n",
       "    }\n",
       "\n",
       "    .dataframe thead th {\n",
       "        text-align: right;\n",
       "    }\n",
       "</style>\n",
       "<table border=\"1\" class=\"dataframe\">\n",
       "  <thead>\n",
       "    <tr style=\"text-align: right;\">\n",
       "      <th></th>\n",
       "      <th>Date</th>\n",
       "      <th>S&amp;P Closing Price</th>\n",
       "    </tr>\n",
       "  </thead>\n",
       "  <tbody>\n",
       "    <tr>\n",
       "      <th>0</th>\n",
       "      <td>2019-12-31</td>\n",
       "      <td>3230.78</td>\n",
       "    </tr>\n",
       "    <tr>\n",
       "      <th>1</th>\n",
       "      <td>2019-12-30</td>\n",
       "      <td>3221.29</td>\n",
       "    </tr>\n",
       "    <tr>\n",
       "      <th>2</th>\n",
       "      <td>2019-12-27</td>\n",
       "      <td>3240.02</td>\n",
       "    </tr>\n",
       "    <tr>\n",
       "      <th>3</th>\n",
       "      <td>2019-12-26</td>\n",
       "      <td>3239.91</td>\n",
       "    </tr>\n",
       "    <tr>\n",
       "      <th>4</th>\n",
       "      <td>2019-12-24</td>\n",
       "      <td>3223.38</td>\n",
       "    </tr>\n",
       "  </tbody>\n",
       "</table>\n",
       "</div>"
      ],
      "text/plain": [
       "        Date  S&P Closing Price\n",
       "0 2019-12-31            3230.78\n",
       "1 2019-12-30            3221.29\n",
       "2 2019-12-27            3240.02\n",
       "3 2019-12-26            3239.91\n",
       "4 2019-12-24            3223.38"
      ]
     },
     "execution_count": 63,
     "metadata": {},
     "output_type": "execute_result"
    }
   ],
   "source": [
    "df['Date'] = pd.to_datetime(df['Date'], dayfirst=False)\n",
    "df.head()"
   ]
  },
  {
   "cell_type": "markdown",
   "id": "492b84a1",
   "metadata": {},
   "source": [
    "Order datapoints in ascending order by date"
   ]
  },
  {
   "cell_type": "code",
   "execution_count": 64,
   "id": "39a8098c",
   "metadata": {},
   "outputs": [
    {
     "data": {
      "text/html": [
       "<div>\n",
       "<style scoped>\n",
       "    .dataframe tbody tr th:only-of-type {\n",
       "        vertical-align: middle;\n",
       "    }\n",
       "\n",
       "    .dataframe tbody tr th {\n",
       "        vertical-align: top;\n",
       "    }\n",
       "\n",
       "    .dataframe thead th {\n",
       "        text-align: right;\n",
       "    }\n",
       "</style>\n",
       "<table border=\"1\" class=\"dataframe\">\n",
       "  <thead>\n",
       "    <tr style=\"text-align: right;\">\n",
       "      <th></th>\n",
       "      <th>Date</th>\n",
       "      <th>S&amp;P Closing Price</th>\n",
       "    </tr>\n",
       "  </thead>\n",
       "  <tbody>\n",
       "    <tr>\n",
       "      <th>0</th>\n",
       "      <td>2009-03-09</td>\n",
       "      <td>676.53</td>\n",
       "    </tr>\n",
       "    <tr>\n",
       "      <th>1</th>\n",
       "      <td>2009-03-10</td>\n",
       "      <td>719.60</td>\n",
       "    </tr>\n",
       "    <tr>\n",
       "      <th>2</th>\n",
       "      <td>2009-03-11</td>\n",
       "      <td>721.36</td>\n",
       "    </tr>\n",
       "    <tr>\n",
       "      <th>3</th>\n",
       "      <td>2009-03-12</td>\n",
       "      <td>750.74</td>\n",
       "    </tr>\n",
       "    <tr>\n",
       "      <th>4</th>\n",
       "      <td>2009-03-13</td>\n",
       "      <td>756.55</td>\n",
       "    </tr>\n",
       "  </tbody>\n",
       "</table>\n",
       "</div>"
      ],
      "text/plain": [
       "        Date  S&P Closing Price\n",
       "0 2009-03-09             676.53\n",
       "1 2009-03-10             719.60\n",
       "2 2009-03-11             721.36\n",
       "3 2009-03-12             750.74\n",
       "4 2009-03-13             756.55"
      ]
     },
     "execution_count": 64,
     "metadata": {},
     "output_type": "execute_result"
    }
   ],
   "source": [
    "df.sort_values(by='Date', inplace=True)\n",
    "df.reset_index(drop=True, inplace=True)\n",
    "df.head()"
   ]
  },
  {
   "cell_type": "markdown",
   "id": "60b0e655",
   "metadata": {},
   "source": [
    "Confirm dataset now scrubbed with df.info"
   ]
  },
  {
   "cell_type": "code",
   "execution_count": 65,
   "id": "00cf412a",
   "metadata": {},
   "outputs": [
    {
     "name": "stdout",
     "output_type": "stream",
     "text": [
      "<class 'pandas.core.frame.DataFrame'>\n",
      "RangeIndex: 2724 entries, 0 to 2723\n",
      "Data columns (total 2 columns):\n",
      " #   Column             Non-Null Count  Dtype         \n",
      "---  ------             --------------  -----         \n",
      " 0   Date               2724 non-null   datetime64[ns]\n",
      " 1   S&P Closing Price  2724 non-null   float64       \n",
      "dtypes: datetime64[ns](1), float64(1)\n",
      "memory usage: 42.7 KB\n"
     ]
    }
   ],
   "source": [
    "df.info()"
   ]
  },
  {
   "cell_type": "markdown",
   "id": "a2c24333",
   "metadata": {},
   "source": [
    "# Explore Data"
   ]
  },
  {
   "cell_type": "markdown",
   "id": "18985ca0",
   "metadata": {},
   "source": [
    "Calculate time series descriptive statistics"
   ]
  },
  {
   "cell_type": "code",
   "execution_count": 66,
   "id": "4a001106",
   "metadata": {},
   "outputs": [
    {
     "data": {
      "text/plain": [
       "count    2724.000000\n",
       "mean     1887.204710\n",
       "std       624.475244\n",
       "min       676.530000\n",
       "25%      1319.002500\n",
       "50%      1924.605000\n",
       "75%      2374.440000\n",
       "max      3240.020000\n",
       "Name: S&P Closing Price, dtype: float64"
      ]
     },
     "execution_count": 66,
     "metadata": {},
     "output_type": "execute_result"
    }
   ],
   "source": [
    "df['S&P Closing Price'].describe()"
   ]
  },
  {
   "cell_type": "markdown",
   "id": "e9905f9b",
   "metadata": {},
   "source": [
    "Plot time series dataset"
   ]
  },
  {
   "cell_type": "code",
   "execution_count": 67,
   "id": "bd21c93b",
   "metadata": {},
   "outputs": [
    {
     "name": "stderr",
     "output_type": "stream",
     "text": [
      "<ipython-input-67-d0c82e76c402>:5: UserWarning: FixedFormatter should only be used together with FixedLocator\n",
      "  ax.set_xticklabels(date_labels)\n"
     ]
    },
    {
     "data": {
      "text/plain": [
       "Text(0, 0.5, 'Closing Price')"
      ]
     },
     "execution_count": 67,
     "metadata": {},
     "output_type": "execute_result"
    },
    {
     "data": {
      "image/png": "[encoded data removed]",
      "text/plain": [
       "<Figure size 1080x360 with 1 Axes>"
      ]
     },
     "metadata": {
      "needs_background": "light"
     },
     "output_type": "display_data"
    }
   ],
   "source": [
    "fig, ax = plt.subplots(figsize=(15,5))\n",
    "ax.plot(df['S&P Closing Price'].values)\n",
    "date_labels = [0]\n",
    "date_labels.extend([str(df.loc[x, 'Date']).split(' ')[0] for x in range(0, 3000, 500)])\n",
    "ax.set_xticklabels(date_labels)\n",
    "ax.set_title('S&P500 Closing Price by Day')\n",
    "ax.set_xlabel('Date')\n",
    "ax.set_ylabel('Closing Price')"
   ]
  },
  {
   "cell_type": "markdown",
   "id": "13e5c7fc",
   "metadata": {},
   "source": [
    "Difference time series data"
   ]
  },
  {
   "cell_type": "code",
   "execution_count": 68,
   "id": "d8b61f3f",
   "metadata": {},
   "outputs": [
    {
     "data": {
      "text/html": [
       "<div>\n",
       "<style scoped>\n",
       "    .dataframe tbody tr th:only-of-type {\n",
       "        vertical-align: middle;\n",
       "    }\n",
       "\n",
       "    .dataframe tbody tr th {\n",
       "        vertical-align: top;\n",
       "    }\n",
       "\n",
       "    .dataframe thead th {\n",
       "        text-align: right;\n",
       "    }\n",
       "</style>\n",
       "<table border=\"1\" class=\"dataframe\">\n",
       "  <thead>\n",
       "    <tr style=\"text-align: right;\">\n",
       "      <th></th>\n",
       "      <th>Date</th>\n",
       "      <th>S&amp;P Closing Price</th>\n",
       "      <th>Differenced Price</th>\n",
       "    </tr>\n",
       "  </thead>\n",
       "  <tbody>\n",
       "    <tr>\n",
       "      <th>0</th>\n",
       "      <td>2009-03-09</td>\n",
       "      <td>676.53</td>\n",
       "      <td>NaN</td>\n",
       "    </tr>\n",
       "    <tr>\n",
       "      <th>1</th>\n",
       "      <td>2009-03-10</td>\n",
       "      <td>719.60</td>\n",
       "      <td>43.07</td>\n",
       "    </tr>\n",
       "    <tr>\n",
       "      <th>2</th>\n",
       "      <td>2009-03-11</td>\n",
       "      <td>721.36</td>\n",
       "      <td>1.76</td>\n",
       "    </tr>\n",
       "    <tr>\n",
       "      <th>3</th>\n",
       "      <td>2009-03-12</td>\n",
       "      <td>750.74</td>\n",
       "      <td>29.38</td>\n",
       "    </tr>\n",
       "    <tr>\n",
       "      <th>4</th>\n",
       "      <td>2009-03-13</td>\n",
       "      <td>756.55</td>\n",
       "      <td>5.81</td>\n",
       "    </tr>\n",
       "  </tbody>\n",
       "</table>\n",
       "</div>"
      ],
      "text/plain": [
       "        Date  S&P Closing Price  Differenced Price\n",
       "0 2009-03-09             676.53                NaN\n",
       "1 2009-03-10             719.60              43.07\n",
       "2 2009-03-11             721.36               1.76\n",
       "3 2009-03-12             750.74              29.38\n",
       "4 2009-03-13             756.55               5.81"
      ]
     },
     "execution_count": 68,
     "metadata": {},
     "output_type": "execute_result"
    }
   ],
   "source": [
    "df['Differenced Price'] = df[['S&P Closing Price']].diff(periods=1)\n",
    "df.head()"
   ]
  },
  {
   "cell_type": "markdown",
   "id": "379c0287",
   "metadata": {},
   "source": [
    "Calculate differenced time series descriptive statistics"
   ]
  },
  {
   "cell_type": "code",
   "execution_count": 69,
   "id": "d3e2757e",
   "metadata": {},
   "outputs": [
    {
     "data": {
      "text/plain": [
       "count    2723.000000\n",
       "mean        0.938028\n",
       "std        17.082972\n",
       "min      -113.190000\n",
       "25%        -6.100000\n",
       "50%         1.210000\n",
       "75%         9.340000\n",
       "max       116.600000\n",
       "Name: Differenced Price, dtype: float64"
      ]
     },
     "execution_count": 69,
     "metadata": {},
     "output_type": "execute_result"
    }
   ],
   "source": [
    "df['Differenced Price'].describe()"
   ]
  },
  {
   "cell_type": "markdown",
   "id": "2d45b402",
   "metadata": {},
   "source": [
    "Plot differenced time series data"
   ]
  },
  {
   "cell_type": "code",
   "execution_count": 70,
   "id": "e4c00f66",
   "metadata": {},
   "outputs": [
    {
     "name": "stderr",
     "output_type": "stream",
     "text": [
      "<ipython-input-70-cb91582f368d>:5: UserWarning: FixedFormatter should only be used together with FixedLocator\n",
      "  ax.set_xticklabels(date_labels)\n"
     ]
    },
    {
     "data": {
      "text/plain": [
       "Text(0, 0.5, 'Closing Price')"
      ]
     },
     "execution_count": 70,
     "metadata": {},
     "output_type": "execute_result"
    },
    {
     "data": {
      "image/png": "[encoded data removed]",
      "text/plain": [
       "<Figure size 1080x360 with 1 Axes>"
      ]
     },
     "metadata": {
      "needs_background": "light"
     },
     "output_type": "display_data"
    }
   ],
   "source": [
    "fig, ax = plt.subplots(figsize=(15,5))\n",
    "ax.plot(df['Differenced Price'].values)\n",
    "date_labels = [0]\n",
    "date_labels.extend([str(df.loc[x, 'Date']).split(' ')[0] for x in range(0, 3000, 500)])\n",
    "ax.set_xticklabels(date_labels)\n",
    "ax.set_title('Differenced S&P500 Closing Price by Day')\n",
    "ax.set_xlabel('Date')\n",
    "ax.set_ylabel('Closing Price')"
   ]
  },
  {
   "cell_type": "markdown",
   "id": "879bcac6",
   "metadata": {},
   "source": [
    "Run Dickey-Fuller test on differenced time series data"
   ]
  },
  {
   "cell_type": "code",
   "execution_count": 71,
   "id": "ec29dcbe",
   "metadata": {},
   "outputs": [
    {
     "data": {
      "text/plain": [
       "(-12.998412457721754,\n",
       " 2.7193325008130615e-24,\n",
       " 18,\n",
       " 2704,\n",
       " {'1%': -3.43277067999415,\n",
       "  '5%': -2.862609479032774,\n",
       "  '10%': -2.567339319094438},\n",
       " 22911.05603338416)"
      ]
     },
     "execution_count": 71,
     "metadata": {},
     "output_type": "execute_result"
    }
   ],
   "source": [
    "adfuller(df['Differenced Price'][1:])"
   ]
  },
  {
   "cell_type": "markdown",
   "id": "86294adf",
   "metadata": {},
   "source": [
    "Plot time series acf"
   ]
  },
  {
   "cell_type": "code",
   "execution_count": 72,
   "id": "2f29cf59",
   "metadata": {},
   "outputs": [
    {
     "data": {
      "text/plain": [
       "Text(0, 0.5, 'Correlation')"
      ]
     },
     "execution_count": 72,
     "metadata": {},
     "output_type": "execute_result"
    },
    {
     "data": {
      "image/png": "[encoded data removed]",
      "text/plain": [
       "<Figure size 432x288 with 1 Axes>"
      ]
     },
     "metadata": {
      "needs_background": "light"
     },
     "output_type": "display_data"
    }
   ],
   "source": [
    "fig, ax = plt.subplots()\n",
    "plot_acf(df['Differenced Price'][1:], alpha=.05, lags = 10, ax=ax)\n",
    "ax.set_xlabel('Lags')\n",
    "ax.set_ylabel('Correlation')"
   ]
  },
  {
   "cell_type": "markdown",
   "id": "797fdfe7",
   "metadata": {},
   "source": [
    "Plot time series pacf"
   ]
  },
  {
   "cell_type": "code",
   "execution_count": 73,
   "id": "595b1f87",
   "metadata": {},
   "outputs": [
    {
     "data": {
      "text/plain": [
       "Text(0, 0.5, 'Correlation')"
      ]
     },
     "execution_count": 73,
     "metadata": {},
     "output_type": "execute_result"
    },
    {
     "data": {
      "image/png": "[encoded data removed]",
      "text/plain": [
       "<Figure size 432x288 with 1 Axes>"
      ]
     },
     "metadata": {
      "needs_background": "light"
     },
     "output_type": "display_data"
    }
   ],
   "source": [
    "fig, ax = plt.subplots()\n",
    "plot_pacf(df['Differenced Price'][1:], alpha=.05, lags = 10, ax=ax)\n",
    "ax.set_xlabel('Lags')\n",
    "ax.set_ylabel('Correlation')"
   ]
  },
  {
   "cell_type": "markdown",
   "id": "ce6852ee",
   "metadata": {},
   "source": [
    "# Model Data"
   ]
  },
  {
   "cell_type": "markdown",
   "id": "ce1fb998",
   "metadata": {},
   "source": [
    "Perform train test split"
   ]
  },
  {
   "cell_type": "code",
   "execution_count": 74,
   "id": "274d8a3e",
   "metadata": {},
   "outputs": [],
   "source": [
    "test_size = round(len(df['Differenced Price'].values[1:])*.2)\n",
    "train_series = df['Differenced Price'].values[1 : -test_size]\n",
    "val_series = df['Differenced Price'].values[-test_size : ]"
   ]
  },
  {
   "cell_type": "markdown",
   "id": "7a7bbcfb",
   "metadata": {},
   "source": [
    "Build and validate persistance model"
   ]
  },
  {
   "cell_type": "code",
   "execution_count": 75,
   "id": "b12904eb",
   "metadata": {},
   "outputs": [
    {
     "name": "stdout",
     "output_type": "stream",
     "text": [
      "Train RMSE: 20.903491007209073\n",
      "Train MAE: 15.499839228295825\n",
      "Validation RMSE: 35.60133815850847\n",
      "Validation MAE: 24.95547794117647\n"
     ]
    }
   ],
   "source": [
    "train_predictions = train_series[0:-1]\n",
    "train_actuals = train_series[1:]\n",
    "val_predictions = val_series[0:-1]\n",
    "val_actuals = val_series[1:]\n",
    "print('Train RMSE:', np.sqrt(mean_squared_error(train_actuals, train_predictions)))\n",
    "print('Train MAE:', mean_absolute_error(train_actuals, train_predictions))\n",
    "print('Validation RMSE:', np.sqrt(mean_squared_error(val_actuals, val_predictions)))\n",
    "print('Validation MAE:', mean_absolute_error(val_actuals, val_predictions))"
   ]
  },
  {
   "cell_type": "markdown",
   "id": "04c538f3",
   "metadata": {},
   "source": [
    "Build and validate mean based dummy model"
   ]
  },
  {
   "cell_type": "code",
   "execution_count": 76,
   "id": "b434c1ec",
   "metadata": {},
   "outputs": [
    {
     "name": "stdout",
     "output_type": "stream",
     "text": [
      "Train RMSE: 14.491666349805767\n",
      "Train MAE: 10.338917727234785\n",
      "Validation RMSE: 24.865500125838956\n",
      "Validation MAE: 17.292760027295483\n"
     ]
    }
   ],
   "source": [
    "train_mean_predictions = [train_series.mean()]*len(train_series)\n",
    "train_mean_actuals = train_series\n",
    "val_mean_predictions = [train_series.mean()]*len(val_series)\n",
    "val_mean_actuals = val_series\n",
    "print('Train RMSE:', np.sqrt(mean_squared_error(train_mean_actuals, train_mean_predictions)))\n",
    "print('Train MAE:', mean_absolute_error(train_mean_actuals, train_mean_predictions))\n",
    "print('Validation RMSE:', np.sqrt(mean_squared_error(val_mean_actuals, val_mean_predictions)))\n",
    "print('Validation MAE:', mean_absolute_error(val_mean_actuals, val_mean_predictions))"
   ]
  },
  {
   "cell_type": "markdown",
   "id": "9e677c0c",
   "metadata": {},
   "source": [
    "Fit ARIMA model to time series data"
   ]
  },
  {
   "cell_type": "code",
   "execution_count": 77,
   "id": "978bd8c6",
   "metadata": {},
   "outputs": [
    {
     "name": "stdout",
     "output_type": "stream",
     "text": [
      "                               SARIMAX Results                                \n",
      "==============================================================================\n",
      "Dep. Variable:                      y   No. Observations:                 2178\n",
      "Model:                ARIMA(1, 0, 10)   Log Likelihood               -8903.483\n",
      "Date:                Tue, 10 May 2022   AIC                          17832.966\n",
      "Time:                        21:24:56   BIC                          17906.886\n",
      "Sample:                             0   HQIC                         17859.991\n",
      "                               - 2178                                         \n",
      "Covariance Type:                  opg                                         \n",
      "==============================================================================\n",
      "                 coef    std err          z      P>|z|      [0.025      0.975]\n",
      "------------------------------------------------------------------------------\n",
      "const          0.8648      0.279      3.102      0.002       0.318       1.411\n",
      "ar.L1          0.0602      1.933      0.031      0.975      -3.729       3.849\n",
      "ma.L1         -0.1050      1.934     -0.054      0.957      -3.895       3.685\n",
      "ma.L2          0.0033      0.088      0.038      0.970      -0.169       0.176\n",
      "ma.L3         -0.0503      0.017     -3.037      0.002      -0.083      -0.018\n",
      "ma.L4         -0.0204      0.098     -0.209      0.834      -0.212       0.171\n",
      "ma.L5         -0.0498      0.048     -1.028      0.304      -0.145       0.045\n",
      "ma.L6      -1.861e-05      0.101     -0.000      1.000      -0.197       0.197\n",
      "ma.L7          0.0029      0.019      0.148      0.882      -0.035       0.041\n",
      "ma.L8         -0.0020      0.018     -0.115      0.908      -0.037       0.033\n",
      "ma.L9         -0.0410      0.018     -2.341      0.019      -0.075      -0.007\n",
      "ma.L10         0.0117      0.079      0.148      0.882      -0.143       0.166\n",
      "sigma2       208.1007      4.326     48.103      0.000     199.622     216.580\n",
      "===================================================================================\n",
      "Ljung-Box (L1) (Q):                   0.00   Jarque-Bera (JB):               787.52\n",
      "Prob(Q):                              0.99   Prob(JB):                         0.00\n",
      "Heteroskedasticity (H):               1.25   Skew:                            -0.50\n",
      "Prob(H) (two-sided):                  0.00   Kurtosis:                         5.77\n",
      "===================================================================================\n",
      "\n",
      "Warnings:\n",
      "[1] Covariance matrix calculated using the outer product of gradients (complex-step).\n",
      "[ 8.64799104e-01  6.01625073e-02 -1.04976984e-01  3.32053999e-03\n",
      " -5.02935438e-02 -2.03853629e-02 -4.97614447e-02 -1.86094146e-05\n",
      "  2.88717946e-03 -2.04829490e-03 -4.09764771e-02  1.16624950e-02\n",
      "  2.08100681e+02]\n"
     ]
    }
   ],
   "source": [
    "arima = ARIMA(train_series, order = (1, 0, 10))\n",
    "arima_model = arima.fit()\n",
    "print(arima_model.summary())\n",
    "print(arima_model.params)"
   ]
  },
  {
   "cell_type": "markdown",
   "id": "c8ab4bae",
   "metadata": {},
   "source": [
    "Calculate evaluation metrics for arima model"
   ]
  },
  {
   "cell_type": "code",
   "execution_count": 78,
   "id": "4356217c",
   "metadata": {},
   "outputs": [
    {
     "name": "stdout",
     "output_type": "stream",
     "text": [
      "Validation RMSE: 24.86547660231165\n",
      "Validation MAE: 17.294337287157024\n"
     ]
    }
   ],
   "source": [
    "val_pred_arima = arima_model.forecast(steps=len(val_series))\n",
    "print('Validation RMSE:', np.sqrt(mean_squared_error(val_series, val_pred_arima)))\n",
    "print('Validation MAE:', mean_absolute_error(val_series, val_pred_arima))"
   ]
  },
  {
   "cell_type": "markdown",
   "id": "c17d9b9a",
   "metadata": {},
   "source": [
    "Build facebook prophet model"
   ]
  },
  {
   "cell_type": "code",
   "execution_count": 79,
   "id": "559ffb27",
   "metadata": {},
   "outputs": [
    {
     "name": "stderr",
     "output_type": "stream",
     "text": [
      "INFO:prophet:Disabling daily seasonality. Run prophet with daily_seasonality=True to override this.\n"
     ]
    },
    {
     "data": {
      "text/html": [
       "<div>\n",
       "<style scoped>\n",
       "    .dataframe tbody tr th:only-of-type {\n",
       "        vertical-align: middle;\n",
       "    }\n",
       "\n",
       "    .dataframe tbody tr th {\n",
       "        vertical-align: top;\n",
       "    }\n",
       "\n",
       "    .dataframe thead th {\n",
       "        text-align: right;\n",
       "    }\n",
       "</style>\n",
       "<table border=\"1\" class=\"dataframe\">\n",
       "  <thead>\n",
       "    <tr style=\"text-align: right;\">\n",
       "      <th></th>\n",
       "      <th>ds</th>\n",
       "      <th>trend</th>\n",
       "      <th>yhat_lower</th>\n",
       "      <th>yhat_upper</th>\n",
       "      <th>trend_lower</th>\n",
       "      <th>trend_upper</th>\n",
       "      <th>additive_terms</th>\n",
       "      <th>additive_terms_lower</th>\n",
       "      <th>additive_terms_upper</th>\n",
       "      <th>weekly</th>\n",
       "      <th>weekly_lower</th>\n",
       "      <th>weekly_upper</th>\n",
       "      <th>yearly</th>\n",
       "      <th>yearly_lower</th>\n",
       "      <th>yearly_upper</th>\n",
       "      <th>multiplicative_terms</th>\n",
       "      <th>multiplicative_terms_lower</th>\n",
       "      <th>multiplicative_terms_upper</th>\n",
       "      <th>yhat</th>\n",
       "    </tr>\n",
       "  </thead>\n",
       "  <tbody>\n",
       "    <tr>\n",
       "      <th>0</th>\n",
       "      <td>2009-03-10</td>\n",
       "      <td>754.822108</td>\n",
       "      <td>736.365055</td>\n",
       "      <td>821.443104</td>\n",
       "      <td>754.822108</td>\n",
       "      <td>754.822108</td>\n",
       "      <td>24.031276</td>\n",
       "      <td>24.031276</td>\n",
       "      <td>24.031276</td>\n",
       "      <td>7.496074</td>\n",
       "      <td>7.496074</td>\n",
       "      <td>7.496074</td>\n",
       "      <td>16.535202</td>\n",
       "      <td>16.535202</td>\n",
       "      <td>16.535202</td>\n",
       "      <td>0.0</td>\n",
       "      <td>0.0</td>\n",
       "      <td>0.0</td>\n",
       "      <td>778.853384</td>\n",
       "    </tr>\n",
       "    <tr>\n",
       "      <th>1</th>\n",
       "      <td>2009-03-11</td>\n",
       "      <td>756.381886</td>\n",
       "      <td>740.740609</td>\n",
       "      <td>822.390323</td>\n",
       "      <td>756.381886</td>\n",
       "      <td>756.381886</td>\n",
       "      <td>24.601383</td>\n",
       "      <td>24.601383</td>\n",
       "      <td>24.601383</td>\n",
       "      <td>7.586338</td>\n",
       "      <td>7.586338</td>\n",
       "      <td>7.586338</td>\n",
       "      <td>17.015045</td>\n",
       "      <td>17.015045</td>\n",
       "      <td>17.015045</td>\n",
       "      <td>0.0</td>\n",
       "      <td>0.0</td>\n",
       "      <td>0.0</td>\n",
       "      <td>780.983269</td>\n",
       "    </tr>\n",
       "    <tr>\n",
       "      <th>2</th>\n",
       "      <td>2009-03-12</td>\n",
       "      <td>757.941665</td>\n",
       "      <td>740.028023</td>\n",
       "      <td>829.149315</td>\n",
       "      <td>757.941665</td>\n",
       "      <td>757.941665</td>\n",
       "      <td>25.731087</td>\n",
       "      <td>25.731087</td>\n",
       "      <td>25.731087</td>\n",
       "      <td>8.204815</td>\n",
       "      <td>8.204815</td>\n",
       "      <td>8.204815</td>\n",
       "      <td>17.526272</td>\n",
       "      <td>17.526272</td>\n",
       "      <td>17.526272</td>\n",
       "      <td>0.0</td>\n",
       "      <td>0.0</td>\n",
       "      <td>0.0</td>\n",
       "      <td>783.672752</td>\n",
       "    </tr>\n",
       "    <tr>\n",
       "      <th>3</th>\n",
       "      <td>2009-03-13</td>\n",
       "      <td>759.501443</td>\n",
       "      <td>740.475356</td>\n",
       "      <td>828.629643</td>\n",
       "      <td>759.501443</td>\n",
       "      <td>759.501443</td>\n",
       "      <td>25.903050</td>\n",
       "      <td>25.903050</td>\n",
       "      <td>25.903050</td>\n",
       "      <td>7.840120</td>\n",
       "      <td>7.840120</td>\n",
       "      <td>7.840120</td>\n",
       "      <td>18.062930</td>\n",
       "      <td>18.062930</td>\n",
       "      <td>18.062930</td>\n",
       "      <td>0.0</td>\n",
       "      <td>0.0</td>\n",
       "      <td>0.0</td>\n",
       "      <td>785.404493</td>\n",
       "    </tr>\n",
       "    <tr>\n",
       "      <th>4</th>\n",
       "      <td>2009-03-16</td>\n",
       "      <td>764.180779</td>\n",
       "      <td>750.401472</td>\n",
       "      <td>834.365348</td>\n",
       "      <td>764.180779</td>\n",
       "      <td>764.180779</td>\n",
       "      <td>26.928437</td>\n",
       "      <td>26.928437</td>\n",
       "      <td>26.928437</td>\n",
       "      <td>7.184732</td>\n",
       "      <td>7.184732</td>\n",
       "      <td>7.184732</td>\n",
       "      <td>19.743705</td>\n",
       "      <td>19.743705</td>\n",
       "      <td>19.743705</td>\n",
       "      <td>0.0</td>\n",
       "      <td>0.0</td>\n",
       "      <td>0.0</td>\n",
       "      <td>791.109217</td>\n",
       "    </tr>\n",
       "  </tbody>\n",
       "</table>\n",
       "</div>"
      ],
      "text/plain": [
       "          ds       trend  yhat_lower  yhat_upper  trend_lower  trend_upper  \\\n",
       "0 2009-03-10  754.822108  736.365055  821.443104   754.822108   754.822108   \n",
       "1 2009-03-11  756.381886  740.740609  822.390323   756.381886   756.381886   \n",
       "2 2009-03-12  757.941665  740.028023  829.149315   757.941665   757.941665   \n",
       "3 2009-03-13  759.501443  740.475356  828.629643   759.501443   759.501443   \n",
       "4 2009-03-16  764.180779  750.401472  834.365348   764.180779   764.180779   \n",
       "\n",
       "   additive_terms  additive_terms_lower  additive_terms_upper    weekly  \\\n",
       "0       24.031276             24.031276             24.031276  7.496074   \n",
       "1       24.601383             24.601383             24.601383  7.586338   \n",
       "2       25.731087             25.731087             25.731087  8.204815   \n",
       "3       25.903050             25.903050             25.903050  7.840120   \n",
       "4       26.928437             26.928437             26.928437  7.184732   \n",
       "\n",
       "   weekly_lower  weekly_upper     yearly  yearly_lower  yearly_upper  \\\n",
       "0      7.496074      7.496074  16.535202     16.535202     16.535202   \n",
       "1      7.586338      7.586338  17.015045     17.015045     17.015045   \n",
       "2      8.204815      8.204815  17.526272     17.526272     17.526272   \n",
       "3      7.840120      7.840120  18.062930     18.062930     18.062930   \n",
       "4      7.184732      7.184732  19.743705     19.743705     19.743705   \n",
       "\n",
       "   multiplicative_terms  multiplicative_terms_lower  \\\n",
       "0                   0.0                         0.0   \n",
       "1                   0.0                         0.0   \n",
       "2                   0.0                         0.0   \n",
       "3                   0.0                         0.0   \n",
       "4                   0.0                         0.0   \n",
       "\n",
       "   multiplicative_terms_upper        yhat  \n",
       "0                         0.0  778.853384  \n",
       "1                         0.0  780.983269  \n",
       "2                         0.0  783.672752  \n",
       "3                         0.0  785.404493  \n",
       "4                         0.0  791.109217  "
      ]
     },
     "execution_count": 79,
     "metadata": {},
     "output_type": "execute_result"
    }
   ],
   "source": [
    "fb_df = df.iloc[1:-len(val_series), [0, 1]]\n",
    "fb_df.columns = ['ds','y']\n",
    "prophet = Prophet()\n",
    "prophet.fit(fb_df)\n",
    "prophet_dates_df = prophet.make_future_dataframe(periods=len(val_series), freq='D')\n",
    "yprophet_preds_df = prophet.predict(df=prophet_dates_df)\n",
    "prophet_preds_df.head()"
   ]
  },
  {
   "cell_type": "markdown",
   "id": "e1b9e7db",
   "metadata": {},
   "source": [
    "Plot facebook prophet time series components"
   ]
  },
  {
   "cell_type": "code",
   "execution_count": 85,
   "id": "3c81f207",
   "metadata": {},
   "outputs": [
    {
     "data": {
      "image/png": "[encoded data removed]",
      "text/plain": [
       "<Figure size 648x648 with 3 Axes>"
      ]
     },
     "metadata": {},
     "output_type": "display_data"
    }
   ],
   "source": [
    "prophet.plot_components(prophet_preds_df);"
   ]
  },
  {
   "cell_type": "markdown",
   "id": "7646ee76",
   "metadata": {},
   "source": [
    "Plot facebook prophet time series predictions"
   ]
  },
  {
   "cell_type": "code",
   "execution_count": 84,
   "id": "7d6a4f37",
   "metadata": {},
   "outputs": [
    {
     "data": {
      "image/png": "[encoded data removed]",
      "text/plain": [
       "<Figure size 720x432 with 1 Axes>"
      ]
     },
     "metadata": {},
     "output_type": "display_data"
    }
   ],
   "source": [
    "prophet.plot(prophet_preds_df);"
   ]
  },
  {
   "cell_type": "code",
   "execution_count": null,
   "id": "aac52b6e",
   "metadata": {},
   "outputs": [],
   "source": []
  }
 ],
 "metadata": {
  "kernelspec": {
   "display_name": "Python 3",
   "language": "python",
   "name": "python3"
  },
  "language_info": {
   "codemirror_mode": {
    "name": "ipython",
    "version": 3
   },
   "file_extension": ".py",
   "mimetype": "text/x-python",
   "name": "python",
   "nbconvert_exporter": "python",
   "pygments_lexer": "ipython3",
   "version": "3.9.5"
  }
 },
 "nbformat": 4,
 "nbformat_minor": 5
}
