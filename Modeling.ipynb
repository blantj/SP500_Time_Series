{
 "cells": [
  {
   "cell_type": "markdown",
   "id": "7bbde71b",
   "metadata": {},
   "source": [
    "# Import Libraries"
   ]
  },
  {
   "cell_type": "code",
   "execution_count": 105,
   "id": "dcbb2297",
   "metadata": {},
   "outputs": [
    {
     "name": "stderr",
     "output_type": "stream",
     "text": [
      "Importing plotly failed. Interactive plots will not work.\n"
     ]
    }
   ],
   "source": [
    "import pandas as pd\n",
    "import matplotlib.pyplot as plt\n",
    "from statsmodels.tsa.stattools import adfuller\n",
    "from statsmodels.graphics.tsaplots import plot_acf\n",
    "from statsmodels.graphics.tsaplots import plot_pacf\n",
    "from sklearn.metrics import mean_squared_error, mean_absolute_error\n",
    "from statsmodels.tsa.statespace.sarimax import SARIMAX\n",
    "from prophet import Prophet"
   ]
  },
  {
   "cell_type": "markdown",
   "id": "34fc6e5d",
   "metadata": {},
   "source": [
    "# Obtain Data"
   ]
  },
  {
   "cell_type": "markdown",
   "id": "0d0434de",
   "metadata": {},
   "source": [
    "Read S&P 500 data csv into pandas df"
   ]
  },
  {
   "cell_type": "code",
   "execution_count": 106,
   "id": "4f130e83",
   "metadata": {},
   "outputs": [
    {
     "data": {
      "text/html": [
       "<div>\n",
       "<style scoped>\n",
       "    .dataframe tbody tr th:only-of-type {\n",
       "        vertical-align: middle;\n",
       "    }\n",
       "\n",
       "    .dataframe tbody tr th {\n",
       "        vertical-align: top;\n",
       "    }\n",
       "\n",
       "    .dataframe thead th {\n",
       "        text-align: right;\n",
       "    }\n",
       "</style>\n",
       "<table border=\"1\" class=\"dataframe\">\n",
       "  <thead>\n",
       "    <tr style=\"text-align: right;\">\n",
       "      <th></th>\n",
       "      <th>Date</th>\n",
       "      <th>Open</th>\n",
       "      <th>High</th>\n",
       "      <th>Low</th>\n",
       "      <th>Close</th>\n",
       "    </tr>\n",
       "  </thead>\n",
       "  <tbody>\n",
       "    <tr>\n",
       "      <th>0</th>\n",
       "      <td>12/31/19</td>\n",
       "      <td>3215.18</td>\n",
       "      <td>3231.72</td>\n",
       "      <td>3212.03</td>\n",
       "      <td>3230.78</td>\n",
       "    </tr>\n",
       "    <tr>\n",
       "      <th>1</th>\n",
       "      <td>12/30/19</td>\n",
       "      <td>3240.09</td>\n",
       "      <td>3240.92</td>\n",
       "      <td>3216.57</td>\n",
       "      <td>3221.29</td>\n",
       "    </tr>\n",
       "    <tr>\n",
       "      <th>2</th>\n",
       "      <td>12/27/19</td>\n",
       "      <td>3247.23</td>\n",
       "      <td>3247.93</td>\n",
       "      <td>3234.37</td>\n",
       "      <td>3240.02</td>\n",
       "    </tr>\n",
       "    <tr>\n",
       "      <th>3</th>\n",
       "      <td>12/26/19</td>\n",
       "      <td>3227.20</td>\n",
       "      <td>3240.08</td>\n",
       "      <td>3227.20</td>\n",
       "      <td>3239.91</td>\n",
       "    </tr>\n",
       "    <tr>\n",
       "      <th>4</th>\n",
       "      <td>12/24/19</td>\n",
       "      <td>3225.45</td>\n",
       "      <td>3226.43</td>\n",
       "      <td>3220.51</td>\n",
       "      <td>3223.38</td>\n",
       "    </tr>\n",
       "  </tbody>\n",
       "</table>\n",
       "</div>"
      ],
      "text/plain": [
       "       Date     Open     High      Low    Close\n",
       "0  12/31/19  3215.18  3231.72  3212.03  3230.78\n",
       "1  12/30/19  3240.09  3240.92  3216.57  3221.29\n",
       "2  12/27/19  3247.23  3247.93  3234.37  3240.02\n",
       "3  12/26/19  3227.20  3240.08  3227.20  3239.91\n",
       "4  12/24/19  3225.45  3226.43  3220.51  3223.38"
      ]
     },
     "execution_count": 106,
     "metadata": {},
     "output_type": "execute_result"
    }
   ],
   "source": [
    "df = pd.read_csv('Data/Prices.csv')\n",
    "df.head()"
   ]
  },
  {
   "cell_type": "code",
   "execution_count": null,
   "id": "b25e692f",
   "metadata": {},
   "outputs": [],
   "source": []
  },
  {
   "cell_type": "code",
   "execution_count": null,
   "id": "270a317a",
   "metadata": {},
   "outputs": [],
   "source": []
  },
  {
   "cell_type": "markdown",
   "id": "b08a4ccc",
   "metadata": {},
   "source": [
    "# Scrub Data"
   ]
  },
  {
   "cell_type": "markdown",
   "id": "1b46722d",
   "metadata": {},
   "source": [
    "See what data scrubbing needed with df.info"
   ]
  },
  {
   "cell_type": "code",
   "execution_count": 107,
   "id": "f28e8571",
   "metadata": {},
   "outputs": [
    {
     "name": "stdout",
     "output_type": "stream",
     "text": [
      "<class 'pandas.core.frame.DataFrame'>\n",
      "RangeIndex: 2724 entries, 0 to 2723\n",
      "Data columns (total 5 columns):\n",
      " #   Column  Non-Null Count  Dtype  \n",
      "---  ------  --------------  -----  \n",
      " 0   Date    2724 non-null   object \n",
      " 1    Open   2724 non-null   float64\n",
      " 2    High   2724 non-null   float64\n",
      " 3    Low    2724 non-null   float64\n",
      " 4    Close  2724 non-null   float64\n",
      "dtypes: float64(4), object(1)\n",
      "memory usage: 106.5+ KB\n"
     ]
    }
   ],
   "source": [
    "df.info()"
   ]
  },
  {
   "cell_type": "markdown",
   "id": "e55d9965",
   "metadata": {},
   "source": [
    "Drop df columns not useful for modeling"
   ]
  },
  {
   "cell_type": "code",
   "execution_count": 108,
   "id": "e1ba504b",
   "metadata": {},
   "outputs": [
    {
     "data": {
      "text/html": [
       "<div>\n",
       "<style scoped>\n",
       "    .dataframe tbody tr th:only-of-type {\n",
       "        vertical-align: middle;\n",
       "    }\n",
       "\n",
       "    .dataframe tbody tr th {\n",
       "        vertical-align: top;\n",
       "    }\n",
       "\n",
       "    .dataframe thead th {\n",
       "        text-align: right;\n",
       "    }\n",
       "</style>\n",
       "<table border=\"1\" class=\"dataframe\">\n",
       "  <thead>\n",
       "    <tr style=\"text-align: right;\">\n",
       "      <th></th>\n",
       "      <th>Date</th>\n",
       "      <th>Close</th>\n",
       "    </tr>\n",
       "  </thead>\n",
       "  <tbody>\n",
       "    <tr>\n",
       "      <th>0</th>\n",
       "      <td>12/31/19</td>\n",
       "      <td>3230.78</td>\n",
       "    </tr>\n",
       "    <tr>\n",
       "      <th>1</th>\n",
       "      <td>12/30/19</td>\n",
       "      <td>3221.29</td>\n",
       "    </tr>\n",
       "    <tr>\n",
       "      <th>2</th>\n",
       "      <td>12/27/19</td>\n",
       "      <td>3240.02</td>\n",
       "    </tr>\n",
       "    <tr>\n",
       "      <th>3</th>\n",
       "      <td>12/26/19</td>\n",
       "      <td>3239.91</td>\n",
       "    </tr>\n",
       "    <tr>\n",
       "      <th>4</th>\n",
       "      <td>12/24/19</td>\n",
       "      <td>3223.38</td>\n",
       "    </tr>\n",
       "  </tbody>\n",
       "</table>\n",
       "</div>"
      ],
      "text/plain": [
       "       Date    Close\n",
       "0  12/31/19  3230.78\n",
       "1  12/30/19  3221.29\n",
       "2  12/27/19  3240.02\n",
       "3  12/26/19  3239.91\n",
       "4  12/24/19  3223.38"
      ]
     },
     "execution_count": 108,
     "metadata": {},
     "output_type": "execute_result"
    }
   ],
   "source": [
    "df.drop(columns=[' Open', ' High', ' Low'], inplace=True)\n",
    "df.head()"
   ]
  },
  {
   "cell_type": "markdown",
   "id": "3014a2af",
   "metadata": {},
   "source": [
    "Rename Close column to S&P 500 Closing Price"
   ]
  },
  {
   "cell_type": "code",
   "execution_count": 109,
   "id": "97910700",
   "metadata": {},
   "outputs": [
    {
     "data": {
      "text/html": [
       "<div>\n",
       "<style scoped>\n",
       "    .dataframe tbody tr th:only-of-type {\n",
       "        vertical-align: middle;\n",
       "    }\n",
       "\n",
       "    .dataframe tbody tr th {\n",
       "        vertical-align: top;\n",
       "    }\n",
       "\n",
       "    .dataframe thead th {\n",
       "        text-align: right;\n",
       "    }\n",
       "</style>\n",
       "<table border=\"1\" class=\"dataframe\">\n",
       "  <thead>\n",
       "    <tr style=\"text-align: right;\">\n",
       "      <th></th>\n",
       "      <th>Date</th>\n",
       "      <th>S&amp;P Closing Price</th>\n",
       "    </tr>\n",
       "  </thead>\n",
       "  <tbody>\n",
       "    <tr>\n",
       "      <th>0</th>\n",
       "      <td>12/31/19</td>\n",
       "      <td>3230.78</td>\n",
       "    </tr>\n",
       "    <tr>\n",
       "      <th>1</th>\n",
       "      <td>12/30/19</td>\n",
       "      <td>3221.29</td>\n",
       "    </tr>\n",
       "    <tr>\n",
       "      <th>2</th>\n",
       "      <td>12/27/19</td>\n",
       "      <td>3240.02</td>\n",
       "    </tr>\n",
       "    <tr>\n",
       "      <th>3</th>\n",
       "      <td>12/26/19</td>\n",
       "      <td>3239.91</td>\n",
       "    </tr>\n",
       "    <tr>\n",
       "      <th>4</th>\n",
       "      <td>12/24/19</td>\n",
       "      <td>3223.38</td>\n",
       "    </tr>\n",
       "  </tbody>\n",
       "</table>\n",
       "</div>"
      ],
      "text/plain": [
       "       Date  S&P Closing Price\n",
       "0  12/31/19            3230.78\n",
       "1  12/30/19            3221.29\n",
       "2  12/27/19            3240.02\n",
       "3  12/26/19            3239.91\n",
       "4  12/24/19            3223.38"
      ]
     },
     "execution_count": 109,
     "metadata": {},
     "output_type": "execute_result"
    }
   ],
   "source": [
    "df.rename(columns= {' Close': 'S&P Closing Price'}, inplace=True)\n",
    "df.head()"
   ]
  },
  {
   "cell_type": "markdown",
   "id": "abff223e",
   "metadata": {},
   "source": [
    "Change Date column to datetime data type"
   ]
  },
  {
   "cell_type": "code",
   "execution_count": 110,
   "id": "d7cdae10",
   "metadata": {},
   "outputs": [
    {
     "data": {
      "text/html": [
       "<div>\n",
       "<style scoped>\n",
       "    .dataframe tbody tr th:only-of-type {\n",
       "        vertical-align: middle;\n",
       "    }\n",
       "\n",
       "    .dataframe tbody tr th {\n",
       "        vertical-align: top;\n",
       "    }\n",
       "\n",
       "    .dataframe thead th {\n",
       "        text-align: right;\n",
       "    }\n",
       "</style>\n",
       "<table border=\"1\" class=\"dataframe\">\n",
       "  <thead>\n",
       "    <tr style=\"text-align: right;\">\n",
       "      <th></th>\n",
       "      <th>Date</th>\n",
       "      <th>S&amp;P Closing Price</th>\n",
       "    </tr>\n",
       "  </thead>\n",
       "  <tbody>\n",
       "    <tr>\n",
       "      <th>0</th>\n",
       "      <td>2019-12-31</td>\n",
       "      <td>3230.78</td>\n",
       "    </tr>\n",
       "    <tr>\n",
       "      <th>1</th>\n",
       "      <td>2019-12-30</td>\n",
       "      <td>3221.29</td>\n",
       "    </tr>\n",
       "    <tr>\n",
       "      <th>2</th>\n",
       "      <td>2019-12-27</td>\n",
       "      <td>3240.02</td>\n",
       "    </tr>\n",
       "    <tr>\n",
       "      <th>3</th>\n",
       "      <td>2019-12-26</td>\n",
       "      <td>3239.91</td>\n",
       "    </tr>\n",
       "    <tr>\n",
       "      <th>4</th>\n",
       "      <td>2019-12-24</td>\n",
       "      <td>3223.38</td>\n",
       "    </tr>\n",
       "  </tbody>\n",
       "</table>\n",
       "</div>"
      ],
      "text/plain": [
       "        Date  S&P Closing Price\n",
       "0 2019-12-31            3230.78\n",
       "1 2019-12-30            3221.29\n",
       "2 2019-12-27            3240.02\n",
       "3 2019-12-26            3239.91\n",
       "4 2019-12-24            3223.38"
      ]
     },
     "execution_count": 110,
     "metadata": {},
     "output_type": "execute_result"
    }
   ],
   "source": [
    "df['Date'] = pd.to_datetime(df['Date'], dayfirst=False)\n",
    "df.head()"
   ]
  },
  {
   "cell_type": "markdown",
   "id": "492b84a1",
   "metadata": {},
   "source": [
    "Order datapoints in ascending order by date"
   ]
  },
  {
   "cell_type": "code",
   "execution_count": 111,
   "id": "39a8098c",
   "metadata": {},
   "outputs": [
    {
     "data": {
      "text/html": [
       "<div>\n",
       "<style scoped>\n",
       "    .dataframe tbody tr th:only-of-type {\n",
       "        vertical-align: middle;\n",
       "    }\n",
       "\n",
       "    .dataframe tbody tr th {\n",
       "        vertical-align: top;\n",
       "    }\n",
       "\n",
       "    .dataframe thead th {\n",
       "        text-align: right;\n",
       "    }\n",
       "</style>\n",
       "<table border=\"1\" class=\"dataframe\">\n",
       "  <thead>\n",
       "    <tr style=\"text-align: right;\">\n",
       "      <th></th>\n",
       "      <th>Date</th>\n",
       "      <th>S&amp;P Closing Price</th>\n",
       "    </tr>\n",
       "  </thead>\n",
       "  <tbody>\n",
       "    <tr>\n",
       "      <th>0</th>\n",
       "      <td>2009-03-09</td>\n",
       "      <td>676.53</td>\n",
       "    </tr>\n",
       "    <tr>\n",
       "      <th>1</th>\n",
       "      <td>2009-03-10</td>\n",
       "      <td>719.60</td>\n",
       "    </tr>\n",
       "    <tr>\n",
       "      <th>2</th>\n",
       "      <td>2009-03-11</td>\n",
       "      <td>721.36</td>\n",
       "    </tr>\n",
       "    <tr>\n",
       "      <th>3</th>\n",
       "      <td>2009-03-12</td>\n",
       "      <td>750.74</td>\n",
       "    </tr>\n",
       "    <tr>\n",
       "      <th>4</th>\n",
       "      <td>2009-03-13</td>\n",
       "      <td>756.55</td>\n",
       "    </tr>\n",
       "  </tbody>\n",
       "</table>\n",
       "</div>"
      ],
      "text/plain": [
       "        Date  S&P Closing Price\n",
       "0 2009-03-09             676.53\n",
       "1 2009-03-10             719.60\n",
       "2 2009-03-11             721.36\n",
       "3 2009-03-12             750.74\n",
       "4 2009-03-13             756.55"
      ]
     },
     "execution_count": 111,
     "metadata": {},
     "output_type": "execute_result"
    }
   ],
   "source": [
    "df.sort_values(by='Date', inplace=True)\n",
    "df.reset_index(drop=True, inplace=True)\n",
    "df.head()"
   ]
  },
  {
   "cell_type": "markdown",
   "id": "60b0e655",
   "metadata": {},
   "source": [
    "Confirm dataset now scrubbed with df.info"
   ]
  },
  {
   "cell_type": "code",
   "execution_count": 112,
   "id": "00cf412a",
   "metadata": {},
   "outputs": [
    {
     "name": "stdout",
     "output_type": "stream",
     "text": [
      "<class 'pandas.core.frame.DataFrame'>\n",
      "RangeIndex: 2724 entries, 0 to 2723\n",
      "Data columns (total 2 columns):\n",
      " #   Column             Non-Null Count  Dtype         \n",
      "---  ------             --------------  -----         \n",
      " 0   Date               2724 non-null   datetime64[ns]\n",
      " 1   S&P Closing Price  2724 non-null   float64       \n",
      "dtypes: datetime64[ns](1), float64(1)\n",
      "memory usage: 42.7 KB\n"
     ]
    }
   ],
   "source": [
    "df.info()"
   ]
  },
  {
   "cell_type": "markdown",
   "id": "a2c24333",
   "metadata": {},
   "source": [
    "# Explore Data"
   ]
  },
  {
   "cell_type": "markdown",
   "id": "18985ca0",
   "metadata": {},
   "source": [
    "Calculate time series descriptive statistics"
   ]
  },
  {
   "cell_type": "code",
   "execution_count": 113,
   "id": "4a001106",
   "metadata": {},
   "outputs": [
    {
     "data": {
      "text/plain": [
       "count    2724.000000\n",
       "mean     1887.204710\n",
       "std       624.475244\n",
       "min       676.530000\n",
       "25%      1319.002500\n",
       "50%      1924.605000\n",
       "75%      2374.440000\n",
       "max      3240.020000\n",
       "Name: S&P Closing Price, dtype: float64"
      ]
     },
     "execution_count": 113,
     "metadata": {},
     "output_type": "execute_result"
    }
   ],
   "source": [
    "df['S&P Closing Price'].describe()"
   ]
  },
  {
   "cell_type": "markdown",
   "id": "e9905f9b",
   "metadata": {},
   "source": [
    "Plot time series dataset"
   ]
  },
  {
   "cell_type": "code",
   "execution_count": 114,
   "id": "bd21c93b",
   "metadata": {},
   "outputs": [
    {
     "name": "stderr",
     "output_type": "stream",
     "text": [
      "<ipython-input-114-d0c82e76c402>:5: UserWarning: FixedFormatter should only be used together with FixedLocator\n",
      "  ax.set_xticklabels(date_labels)\n"
     ]
    },
    {
     "data": {
      "text/plain": [
       "Text(0, 0.5, 'Closing Price')"
      ]
     },
     "execution_count": 114,
     "metadata": {},
     "output_type": "execute_result"
    },
    {
     "data": {
      "image/png": "[encoded data removed]",
      "text/plain": [
       "<Figure size 1080x360 with 1 Axes>"
      ]
     },
     "metadata": {
      "needs_background": "light"
     },
     "output_type": "display_data"
    }
   ],
   "source": [
    "fig, ax = plt.subplots(figsize=(15,5))\n",
    "ax.plot(df['S&P Closing Price'].values)\n",
    "date_labels = [0]\n",
    "date_labels.extend([str(df.loc[x, 'Date']).split(' ')[0] for x in range(0, 3000, 500)])\n",
    "ax.set_xticklabels(date_labels)\n",
    "ax.set_title('S&P500 Closing Price by Day')\n",
    "ax.set_xlabel('Date')\n",
    "ax.set_ylabel('Closing Price')"
   ]
  },
  {
   "cell_type": "markdown",
   "id": "8d540265",
   "metadata": {},
   "source": [
    "# Model Data"
   ]
  },
  {
   "cell_type": "markdown",
   "id": "13e5c7fc",
   "metadata": {},
   "source": [
    "Difference time series data"
   ]
  },
  {
   "cell_type": "code",
   "execution_count": 115,
   "id": "d8b61f3f",
   "metadata": {},
   "outputs": [
    {
     "data": {
      "text/html": [
       "<div>\n",
       "<style scoped>\n",
       "    .dataframe tbody tr th:only-of-type {\n",
       "        vertical-align: middle;\n",
       "    }\n",
       "\n",
       "    .dataframe tbody tr th {\n",
       "        vertical-align: top;\n",
       "    }\n",
       "\n",
       "    .dataframe thead th {\n",
       "        text-align: right;\n",
       "    }\n",
       "</style>\n",
       "<table border=\"1\" class=\"dataframe\">\n",
       "  <thead>\n",
       "    <tr style=\"text-align: right;\">\n",
       "      <th></th>\n",
       "      <th>Date</th>\n",
       "      <th>S&amp;P Closing Price</th>\n",
       "      <th>Differenced Price</th>\n",
       "    </tr>\n",
       "  </thead>\n",
       "  <tbody>\n",
       "    <tr>\n",
       "      <th>0</th>\n",
       "      <td>2009-03-09</td>\n",
       "      <td>676.53</td>\n",
       "      <td>NaN</td>\n",
       "    </tr>\n",
       "    <tr>\n",
       "      <th>1</th>\n",
       "      <td>2009-03-10</td>\n",
       "      <td>719.60</td>\n",
       "      <td>43.07</td>\n",
       "    </tr>\n",
       "    <tr>\n",
       "      <th>2</th>\n",
       "      <td>2009-03-11</td>\n",
       "      <td>721.36</td>\n",
       "      <td>1.76</td>\n",
       "    </tr>\n",
       "    <tr>\n",
       "      <th>3</th>\n",
       "      <td>2009-03-12</td>\n",
       "      <td>750.74</td>\n",
       "      <td>29.38</td>\n",
       "    </tr>\n",
       "    <tr>\n",
       "      <th>4</th>\n",
       "      <td>2009-03-13</td>\n",
       "      <td>756.55</td>\n",
       "      <td>5.81</td>\n",
       "    </tr>\n",
       "  </tbody>\n",
       "</table>\n",
       "</div>"
      ],
      "text/plain": [
       "        Date  S&P Closing Price  Differenced Price\n",
       "0 2009-03-09             676.53                NaN\n",
       "1 2009-03-10             719.60              43.07\n",
       "2 2009-03-11             721.36               1.76\n",
       "3 2009-03-12             750.74              29.38\n",
       "4 2009-03-13             756.55               5.81"
      ]
     },
     "execution_count": 115,
     "metadata": {},
     "output_type": "execute_result"
    }
   ],
   "source": [
    "df['Differenced Price'] = df[['S&P Closing Price']].diff(periods=1)\n",
    "df.head()"
   ]
  },
  {
   "cell_type": "markdown",
   "id": "2d45b402",
   "metadata": {},
   "source": [
    "Plot differenced time series data"
   ]
  },
  {
   "cell_type": "code",
   "execution_count": 116,
   "id": "e4c00f66",
   "metadata": {},
   "outputs": [
    {
     "name": "stderr",
     "output_type": "stream",
     "text": [
      "<ipython-input-116-cb91582f368d>:5: UserWarning: FixedFormatter should only be used together with FixedLocator\n",
      "  ax.set_xticklabels(date_labels)\n"
     ]
    },
    {
     "data": {
      "text/plain": [
       "Text(0, 0.5, 'Closing Price')"
      ]
     },
     "execution_count": 116,
     "metadata": {},
     "output_type": "execute_result"
    },
    {
     "data": {
      "image/png": "[encoded data removed]",
      "text/plain": [
       "<Figure size 1080x360 with 1 Axes>"
      ]
     },
     "metadata": {
      "needs_background": "light"
     },
     "output_type": "display_data"
    }
   ],
   "source": [
    "fig, ax = plt.subplots(figsize=(15,5))\n",
    "ax.plot(df['Differenced Price'].values)\n",
    "date_labels = [0]\n",
    "date_labels.extend([str(df.loc[x, 'Date']).split(' ')[0] for x in range(0, 3000, 500)])\n",
    "ax.set_xticklabels(date_labels)\n",
    "ax.set_title('Differenced S&P500 Closing Price by Day')\n",
    "ax.set_xlabel('Date')\n",
    "ax.set_ylabel('Closing Price')"
   ]
  },
  {
   "cell_type": "markdown",
   "id": "879bcac6",
   "metadata": {},
   "source": [
    "Run Dickey-Fuller test on differenced time series data"
   ]
  },
  {
   "cell_type": "code",
   "execution_count": 117,
   "id": "ec29dcbe",
   "metadata": {},
   "outputs": [
    {
     "data": {
      "text/plain": [
       "(-12.998412457721754,\n",
       " 2.7193325008130615e-24,\n",
       " 18,\n",
       " 2704,\n",
       " {'1%': -3.43277067999415,\n",
       "  '5%': -2.862609479032774,\n",
       "  '10%': -2.567339319094438},\n",
       " 22911.05603338416)"
      ]
     },
     "execution_count": 117,
     "metadata": {},
     "output_type": "execute_result"
    }
   ],
   "source": [
    "adfuller(df['Differenced Price'][1:])"
   ]
  },
  {
   "cell_type": "markdown",
   "id": "86294adf",
   "metadata": {},
   "source": [
    "Plot time series acf"
   ]
  },
  {
   "cell_type": "code",
   "execution_count": 123,
   "id": "2f29cf59",
   "metadata": {},
   "outputs": [
    {
     "data": {
      "text/plain": [
       "Text(0, 0.5, 'Correlation')"
      ]
     },
     "execution_count": 123,
     "metadata": {},
     "output_type": "execute_result"
    },
    {
     "data": {
      "image/png": "[encoded data removed]",
      "text/plain": [
       "<Figure size 432x288 with 1 Axes>"
      ]
     },
     "metadata": {
      "needs_background": "light"
     },
     "output_type": "display_data"
    }
   ],
   "source": [
    "fig, ax = plt.subplots()\n",
    "plot_acf(df['Differenced Price'][1:], alpha=.05, lags = 10, ax=ax)\n",
    "ax.set_xlabel('Lags')\n",
    "ax.set_ylabel('Correlation')"
   ]
  },
  {
   "cell_type": "markdown",
   "id": "797fdfe7",
   "metadata": {},
   "source": [
    "Plot time series pacf"
   ]
  },
  {
   "cell_type": "code",
   "execution_count": 121,
   "id": "595b1f87",
   "metadata": {},
   "outputs": [
    {
     "data": {
      "text/plain": [
       "Text(0, 0.5, 'Correlation')"
      ]
     },
     "execution_count": 121,
     "metadata": {},
     "output_type": "execute_result"
    },
    {
     "data": {
      "image/png": "[encoded data removed]",
      "text/plain": [
       "<Figure size 432x288 with 1 Axes>"
      ]
     },
     "metadata": {
      "needs_background": "light"
     },
     "output_type": "display_data"
    }
   ],
   "source": [
    "fig, ax = plt.subplots()\n",
    "plot_pacf(df['Differenced Price'][1:], alpha=.05, lags = 10, ax=ax)\n",
    "ax.set_xlabel('Lags')\n",
    "ax.set_ylabel('Correlation')"
   ]
  },
  {
   "cell_type": "markdown",
   "id": "ce1fb998",
   "metadata": {},
   "source": []
  },
  {
   "cell_type": "code",
   "execution_count": null,
   "id": "274d8a3e",
   "metadata": {},
   "outputs": [],
   "source": []
  }
 ],
 "metadata": {
  "kernelspec": {
   "display_name": "Python 3",
   "language": "python",
   "name": "python3"
  },
  "language_info": {
   "codemirror_mode": {
    "name": "ipython",
    "version": 3
   },
   "file_extension": ".py",
   "mimetype": "text/x-python",
   "name": "python",
   "nbconvert_exporter": "python",
   "pygments_lexer": "ipython3",
   "version": "3.9.5"
  }
 },
 "nbformat": 4,
 "nbformat_minor": 5
}
